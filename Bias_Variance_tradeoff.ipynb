{
 "cells": [
  {
   "cell_type": "markdown",
   "id": "3c484a9a",
   "metadata": {
    "ExecuteTime": {
     "end_time": "2021-10-06T19:14:03.347566Z",
     "start_time": "2021-10-06T19:14:03.338549Z"
    }
   },
   "source": [
    "Bias Variance Tradeoff\n"
   ]
  },
  {
   "cell_type": "markdown",
   "id": "e123b5d1",
   "metadata": {},
   "source": [
    "https://towardsdatascience.com/understanding-the-bias-variance-tradeoff-165e6942b229\n",
    "\n",
    "https://medium.com/@itbodhi/bias-and-variance-trade-off-542b57ac7ff4"
   ]
  },
  {
   "cell_type": "markdown",
   "id": "280d323d",
   "metadata": {},
   "source": [
    "**What is bias?**\n",
    "\n",
    "Bias is the difference between the average prediction of our model and the correct value which we are trying to predict. Model with high bias pays very little attention to the training data and oversimplifies the model. It always leads to high error on training and test data.\n",
    "\n",
    "\n",
    "Bias is inherent to the algorithm we choose to make the Model. A biased model is one that makes incorrect assumptions about the dataset to make the target function easier to learn.\n",
    "\n",
    "For example, suppose that **we use a linear regression model on a data that has cubic relationhip.** This model will be biased because we have taken wrong assumption about the data and model would be trained using this wrong assumptions about data."
   ]
  },
  {
   "cell_type": "markdown",
   "id": "42bb13ba",
   "metadata": {},
   "source": [
    "**What is variance?**\n",
    "\n",
    "\n",
    "Variance is the variability of model prediction for a given data point or a value which tells us spread of our data. Model with high variance pays a lot of attention to training data and does not generalize on the data which it hasn’t seen before. As a result, such models perform very well on training data but has high error rates on test data."
   ]
  },
  {
   "cell_type": "markdown",
   "id": "f04fc282",
   "metadata": {},
   "source": [
    "**Err(x) is the sum of Bias², variance and the irreducible error.**"
   ]
  },
  {
   "cell_type": "markdown",
   "id": "56b3ff11",
   "metadata": {},
   "source": [
    "In supervised learning, **underfitting** happens when a model unable to capture the underlying pattern of the data. These models usually have **high bias and low variance.** It happens when we have very less amount of data to build an accurate model or when we try to build a linear model with a nonlinear data. Also, these kind of models are very simple to capture the complex patterns in data like Linear and logistic regression."
   ]
  },
  {
   "cell_type": "markdown",
   "id": "f92482e0",
   "metadata": {},
   "source": [
    "In supervised learning, **overfitting** happens when our model captures the noise along with the underlying pattern in data. It happens when we train our model a lot over noisy dataset. These models have **low bias and high variance.** These models are very complex like Decision trees which are prone to overfitting."
   ]
  },
  {
   "cell_type": "markdown",
   "id": "e293210c",
   "metadata": {},
   "source": [
    "**Why is Bias Variance Tradeoff?**\n",
    "\n",
    "If our model is too simple and **has very few parameters then it may have high bias and low variance.** \n",
    "\n",
    "On the other hand if our **model has large number of parameters then it’s going to have high variance and low bias.** So we need to find the right/good balance without overfitting and underfitting the data.\\\n",
    "\n",
    "This tradeoff in complexity is why there is a tradeoff between bias and variance. An algorithm can’t be more complex and less complex at the same time."
   ]
  },
  {
   "cell_type": "markdown",
   "id": "203263a5",
   "metadata": {},
   "source": [
    "Generally, You can see a general trend in the examples above:\n",
    "\n",
    "    Linear machine learning algorithms often have a high bias but a low variance. Example:Linear Regression, Logistic Regression\n",
    "    Nonlinear machine learning algorithms often have a low bias but a high variance. Example: Decision Tree, SVM, Neural Networks"
   ]
  },
  {
   "cell_type": "code",
   "execution_count": null,
   "id": "383acaec",
   "metadata": {},
   "outputs": [],
   "source": []
  }
 ],
 "metadata": {
  "kernelspec": {
   "display_name": "Python 3",
   "language": "python",
   "name": "python3"
  },
  "language_info": {
   "codemirror_mode": {
    "name": "ipython",
    "version": 3
   },
   "file_extension": ".py",
   "mimetype": "text/x-python",
   "name": "python",
   "nbconvert_exporter": "python",
   "pygments_lexer": "ipython3",
   "version": "3.7.11"
  }
 },
 "nbformat": 4,
 "nbformat_minor": 5
}
